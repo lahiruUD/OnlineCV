{
  "nbformat": 4,
  "nbformat_minor": 0,
  "metadata": {
    "colab": {
      "name": "PhonePricePredictor.ipynb",
      "provenance": [],
      "collapsed_sections": [],
      "include_colab_link": true
    },
    "kernelspec": {
      "display_name": "Python 3",
      "name": "python3"
    },
    "language_info": {
      "name": "python"
    }
  },
  "cells": [
    {
      "cell_type": "markdown",
      "metadata": {
        "id": "view-in-github",
        "colab_type": "text"
      },
      "source": [
        "<a href=\"https://colab.research.google.com/github/lahiruUD/OnlineCV/blob/main/PhonePricePredictor.ipynb\" target=\"_parent\"><img src=\"https://colab.research.google.com/assets/colab-badge.svg\" alt=\"Open In Colab\"/></a>"
      ]
    },
    {
      "cell_type": "code",
      "metadata": {
        "id": "1ZfQJliCmchf"
      },
      "source": [
        "# make sure python ≥3.5 is available\n",
        "import sys\n",
        "assert sys.version_info >= (3, 5)\n",
        " \n",
        "# imports basic libraries\n",
        "import pandas as pd\n",
        "import numpy as np\n",
        "import os\n",
        " \n",
        "# import data graphicaly representable libraries\n",
        "%matplotlib inline\n",
        "import matplotlib as mpl\n",
        "import matplotlib.pyplot as plt\n",
        "import seaborn as sns\n",
        " \n",
        "# import Scikit-Learn library addons\n",
        "import sklearn\n",
        "from sklearn import linear_model\n",
        "from sklearn import metrics\n",
        " \n",
        "import warnings"
      ],
      "execution_count": null,
      "outputs": []
    },
    {
      "cell_type": "code",
      "metadata": {
        "colab": {
          "base_uri": "https://localhost:8080/",
          "height": 411
        },
        "id": "5dtfmZ3jnmpN",
        "outputId": "47e8631c-376a-480d-ef63-e7b31ff27c9d"
      },
      "source": [
        "#import data sheet and read it\n",
        "df = pd.read_excel(r'/content/mobilePhonePrice.xlsx')\n",
        "df.head(5)"
      ],
      "execution_count": null,
      "outputs": [
        {
          "output_type": "execute_result",
          "data": {
            "text/html": [
              "<div>\n",
              "<style scoped>\n",
              "    .dataframe tbody tr th:only-of-type {\n",
              "        vertical-align: middle;\n",
              "    }\n",
              "\n",
              "    .dataframe tbody tr th {\n",
              "        vertical-align: top;\n",
              "    }\n",
              "\n",
              "    .dataframe thead th {\n",
              "        text-align: right;\n",
              "    }\n",
              "</style>\n",
              "<table border=\"1\" class=\"dataframe\">\n",
              "  <thead>\n",
              "    <tr style=\"text-align: right;\">\n",
              "      <th></th>\n",
              "      <th>name</th>\n",
              "      <th>ram(GB)</th>\n",
              "      <th>frontCamera(MP)</th>\n",
              "      <th>backCamera(MP)</th>\n",
              "      <th>noOfCam(Front)</th>\n",
              "      <th>noOfCam(Back)</th>\n",
              "      <th>batteryCapacity(mAh)</th>\n",
              "      <th>storage(GB)</th>\n",
              "      <th>displaySize</th>\n",
              "      <th>year</th>\n",
              "      <th>osVersion</th>\n",
              "      <th>price(Rs.)</th>\n",
              "      <th>model</th>\n",
              "    </tr>\n",
              "  </thead>\n",
              "  <tbody>\n",
              "    <tr>\n",
              "      <th>0</th>\n",
              "      <td>Samsung Galaxy S7 Edge</td>\n",
              "      <td>4</td>\n",
              "      <td>5.0</td>\n",
              "      <td>12.0</td>\n",
              "      <td>1</td>\n",
              "      <td>1</td>\n",
              "      <td>3600</td>\n",
              "      <td>32</td>\n",
              "      <td>5.5</td>\n",
              "      <td>2016</td>\n",
              "      <td>6.0</td>\n",
              "      <td>39900</td>\n",
              "      <td>samsung</td>\n",
              "    </tr>\n",
              "    <tr>\n",
              "      <th>1</th>\n",
              "      <td>Samsung Galaxy S7</td>\n",
              "      <td>4</td>\n",
              "      <td>5.0</td>\n",
              "      <td>12.0</td>\n",
              "      <td>1</td>\n",
              "      <td>1</td>\n",
              "      <td>3000</td>\n",
              "      <td>32</td>\n",
              "      <td>5.1</td>\n",
              "      <td>2016</td>\n",
              "      <td>6.0</td>\n",
              "      <td>36900</td>\n",
              "      <td>samsung</td>\n",
              "    </tr>\n",
              "    <tr>\n",
              "      <th>2</th>\n",
              "      <td>Samsung Galaxy S8+ (64GB)</td>\n",
              "      <td>4</td>\n",
              "      <td>8.0</td>\n",
              "      <td>12.0</td>\n",
              "      <td>1</td>\n",
              "      <td>2</td>\n",
              "      <td>3500</td>\n",
              "      <td>64</td>\n",
              "      <td>6.2</td>\n",
              "      <td>2017</td>\n",
              "      <td>7.0</td>\n",
              "      <td>74900</td>\n",
              "      <td>samsung</td>\n",
              "    </tr>\n",
              "    <tr>\n",
              "      <th>3</th>\n",
              "      <td>Samsung Galaxy S8</td>\n",
              "      <td>4</td>\n",
              "      <td>5.0</td>\n",
              "      <td>12.0</td>\n",
              "      <td>1</td>\n",
              "      <td>2</td>\n",
              "      <td>3000</td>\n",
              "      <td>32</td>\n",
              "      <td>5.8</td>\n",
              "      <td>2017</td>\n",
              "      <td>7.0</td>\n",
              "      <td>66500</td>\n",
              "      <td>samsung</td>\n",
              "    </tr>\n",
              "    <tr>\n",
              "      <th>4</th>\n",
              "      <td>Samsung Galaxy S8 Active</td>\n",
              "      <td>4</td>\n",
              "      <td>5.0</td>\n",
              "      <td>12.0</td>\n",
              "      <td>1</td>\n",
              "      <td>2</td>\n",
              "      <td>4000</td>\n",
              "      <td>32</td>\n",
              "      <td>5.8</td>\n",
              "      <td>2017</td>\n",
              "      <td>7.0</td>\n",
              "      <td>148570</td>\n",
              "      <td>samsung</td>\n",
              "    </tr>\n",
              "  </tbody>\n",
              "</table>\n",
              "</div>"
            ],
            "text/plain": [
              "                        name  ram(GB)  ...  price(Rs.)    model\n",
              "0     Samsung Galaxy S7 Edge        4  ...       39900  samsung\n",
              "1         Samsung Galaxy S7         4  ...       36900  samsung\n",
              "2  Samsung Galaxy S8+ (64GB)        4  ...       74900  samsung\n",
              "3          Samsung Galaxy S8        4  ...       66500  samsung\n",
              "4   Samsung Galaxy S8 Active        4  ...      148570  samsung\n",
              "\n",
              "[5 rows x 13 columns]"
            ]
          },
          "metadata": {
            "tags": []
          },
          "execution_count": 22
        }
      ]
    },
    {
      "cell_type": "code",
      "metadata": {
        "colab": {
          "base_uri": "https://localhost:8080/",
          "height": 224
        },
        "id": "zfr_uW0FucDJ",
        "outputId": "6fdd8913-2f0d-41c3-8cff-cdb7bfa59d9c"
      },
      "source": [
        "#drop attribute coloum of \"name\".no need it\n",
        "df = df.drop(columns=['name'])\n",
        "df.head(5)"
      ],
      "execution_count": null,
      "outputs": [
        {
          "output_type": "execute_result",
          "data": {
            "text/html": [
              "<div>\n",
              "<style scoped>\n",
              "    .dataframe tbody tr th:only-of-type {\n",
              "        vertical-align: middle;\n",
              "    }\n",
              "\n",
              "    .dataframe tbody tr th {\n",
              "        vertical-align: top;\n",
              "    }\n",
              "\n",
              "    .dataframe thead th {\n",
              "        text-align: right;\n",
              "    }\n",
              "</style>\n",
              "<table border=\"1\" class=\"dataframe\">\n",
              "  <thead>\n",
              "    <tr style=\"text-align: right;\">\n",
              "      <th></th>\n",
              "      <th>ram(GB)</th>\n",
              "      <th>frontCamera(MP)</th>\n",
              "      <th>backCamera(MP)</th>\n",
              "      <th>noOfCam(Front)</th>\n",
              "      <th>noOfCam(Back)</th>\n",
              "      <th>batteryCapacity(mAh)</th>\n",
              "      <th>storage(GB)</th>\n",
              "      <th>displaySize</th>\n",
              "      <th>year</th>\n",
              "      <th>osVersion</th>\n",
              "      <th>price(Rs.)</th>\n",
              "      <th>model</th>\n",
              "    </tr>\n",
              "  </thead>\n",
              "  <tbody>\n",
              "    <tr>\n",
              "      <th>0</th>\n",
              "      <td>4</td>\n",
              "      <td>5.0</td>\n",
              "      <td>12.0</td>\n",
              "      <td>1</td>\n",
              "      <td>1</td>\n",
              "      <td>3600</td>\n",
              "      <td>32</td>\n",
              "      <td>5.5</td>\n",
              "      <td>2016</td>\n",
              "      <td>6.0</td>\n",
              "      <td>39900</td>\n",
              "      <td>samsung</td>\n",
              "    </tr>\n",
              "    <tr>\n",
              "      <th>1</th>\n",
              "      <td>4</td>\n",
              "      <td>5.0</td>\n",
              "      <td>12.0</td>\n",
              "      <td>1</td>\n",
              "      <td>1</td>\n",
              "      <td>3000</td>\n",
              "      <td>32</td>\n",
              "      <td>5.1</td>\n",
              "      <td>2016</td>\n",
              "      <td>6.0</td>\n",
              "      <td>36900</td>\n",
              "      <td>samsung</td>\n",
              "    </tr>\n",
              "    <tr>\n",
              "      <th>2</th>\n",
              "      <td>4</td>\n",
              "      <td>8.0</td>\n",
              "      <td>12.0</td>\n",
              "      <td>1</td>\n",
              "      <td>2</td>\n",
              "      <td>3500</td>\n",
              "      <td>64</td>\n",
              "      <td>6.2</td>\n",
              "      <td>2017</td>\n",
              "      <td>7.0</td>\n",
              "      <td>74900</td>\n",
              "      <td>samsung</td>\n",
              "    </tr>\n",
              "    <tr>\n",
              "      <th>3</th>\n",
              "      <td>4</td>\n",
              "      <td>5.0</td>\n",
              "      <td>12.0</td>\n",
              "      <td>1</td>\n",
              "      <td>2</td>\n",
              "      <td>3000</td>\n",
              "      <td>32</td>\n",
              "      <td>5.8</td>\n",
              "      <td>2017</td>\n",
              "      <td>7.0</td>\n",
              "      <td>66500</td>\n",
              "      <td>samsung</td>\n",
              "    </tr>\n",
              "    <tr>\n",
              "      <th>4</th>\n",
              "      <td>4</td>\n",
              "      <td>5.0</td>\n",
              "      <td>12.0</td>\n",
              "      <td>1</td>\n",
              "      <td>2</td>\n",
              "      <td>4000</td>\n",
              "      <td>32</td>\n",
              "      <td>5.8</td>\n",
              "      <td>2017</td>\n",
              "      <td>7.0</td>\n",
              "      <td>148570</td>\n",
              "      <td>samsung</td>\n",
              "    </tr>\n",
              "  </tbody>\n",
              "</table>\n",
              "</div>"
            ],
            "text/plain": [
              "   ram(GB)  frontCamera(MP)  backCamera(MP)  ...  osVersion  price(Rs.)    model\n",
              "0        4              5.0            12.0  ...        6.0       39900  samsung\n",
              "1        4              5.0            12.0  ...        6.0       36900  samsung\n",
              "2        4              8.0            12.0  ...        7.0       74900  samsung\n",
              "3        4              5.0            12.0  ...        7.0       66500  samsung\n",
              "4        4              5.0            12.0  ...        7.0      148570  samsung\n",
              "\n",
              "[5 rows x 12 columns]"
            ]
          },
          "metadata": {
            "tags": []
          },
          "execution_count": 23
        }
      ]
    },
    {
      "cell_type": "code",
      "metadata": {
        "colab": {
          "base_uri": "https://localhost:8080/"
        },
        "id": "A4SWciNqvQPt",
        "outputId": "705b526b-7940-45f9-f098-74b232311bd6"
      },
      "source": [
        "#check how meny rows and coloumns\n",
        "df.info"
      ],
      "execution_count": null,
      "outputs": [
        {
          "output_type": "execute_result",
          "data": {
            "text/plain": [
              "<bound method DataFrame.info of      ram(GB)  frontCamera(MP)  backCamera(MP)  ...  osVersion  price(Rs.)    model\n",
              "0          4              5.0            12.0  ...        6.0       39900  samsung\n",
              "1          4              5.0            12.0  ...        6.0       36900  samsung\n",
              "2          4              8.0            12.0  ...        7.0       74900  samsung\n",
              "3          4              5.0            12.0  ...        7.0       66500  samsung\n",
              "4          4              5.0            12.0  ...        7.0      148570  samsung\n",
              "..       ...              ...             ...  ...        ...         ...      ...\n",
              "286        6             32.0            64.0  ...       11.0       45000  samsung\n",
              "287        6             32.0            64.0  ...       11.0       42300  samsung\n",
              "288        8             32.0            64.0  ...       11.0       57000  samsung\n",
              "289        3              8.0            48.0  ...       11.0       44500  samsung\n",
              "290        4             20.0            48.0  ...       10.0       35950  samsung\n",
              "\n",
              "[291 rows x 12 columns]>"
            ]
          },
          "metadata": {
            "tags": []
          },
          "execution_count": 24
        }
      ]
    },
    {
      "cell_type": "code",
      "metadata": {
        "colab": {
          "base_uri": "https://localhost:8080/"
        },
        "id": "5uYtfF_bvfaZ",
        "outputId": "38b35938-cced-4ff8-8f55-a912d8f6df85"
      },
      "source": [
        "#check for null values\n",
        "df.isnull().any()"
      ],
      "execution_count": null,
      "outputs": [
        {
          "output_type": "execute_result",
          "data": {
            "text/plain": [
              "ram(GB)                 False\n",
              "frontCamera(MP)         False\n",
              "backCamera(MP)          False\n",
              "noOfCam(Front)          False\n",
              "noOfCam(Back)           False\n",
              "batteryCapacity(mAh)    False\n",
              "storage(GB)             False\n",
              "displaySize             False\n",
              "year                    False\n",
              "osVersion               False\n",
              "price(Rs.)              False\n",
              "model                   False\n",
              "dtype: bool"
            ]
          },
          "metadata": {
            "tags": []
          },
          "execution_count": 25
        }
      ]
    },
    {
      "cell_type": "code",
      "metadata": {
        "id": "opC7y5qL75qV"
      },
      "source": [
        ""
      ],
      "execution_count": null,
      "outputs": []
    },
    {
      "cell_type": "code",
      "metadata": {
        "colab": {
          "base_uri": "https://localhost:8080/"
        },
        "id": "w0Erglo8vxnC",
        "outputId": "506dbe6c-dd8a-4736-beb0-0a49cd005057"
      },
      "source": [
        "#check for attribute types\n",
        "df.dtypes"
      ],
      "execution_count": null,
      "outputs": [
        {
          "output_type": "execute_result",
          "data": {
            "text/plain": [
              "ram(GB)                   int64\n",
              "frontCamera(MP)         float64\n",
              "backCamera(MP)          float64\n",
              "noOfCam(Front)            int64\n",
              "noOfCam(Back)             int64\n",
              "batteryCapacity(mAh)      int64\n",
              "storage(GB)               int64\n",
              "displaySize             float64\n",
              "year                      int64\n",
              "osVersion               float64\n",
              "price(Rs.)                int64\n",
              "model                    object\n",
              "dtype: object"
            ]
          },
          "metadata": {
            "tags": []
          },
          "execution_count": 26
        }
      ]
    },
    {
      "cell_type": "code",
      "metadata": {
        "colab": {
          "base_uri": "https://localhost:8080/"
        },
        "id": "2i0yWb8wwnCa",
        "outputId": "db5cddd4-d173-482b-a25d-78a457039c89"
      },
      "source": [
        "#take numerical valued coloumns for plot graphs\n",
        "numCols = df.columns[df.dtypes==float].tolist() + df.columns[df.dtypes==int].tolist()\n",
        "numCols"
      ],
      "execution_count": null,
      "outputs": [
        {
          "output_type": "execute_result",
          "data": {
            "text/plain": [
              "['frontCamera(MP)',\n",
              " 'backCamera(MP)',\n",
              " 'displaySize',\n",
              " 'osVersion',\n",
              " 'ram(GB)',\n",
              " 'noOfCam(Front)',\n",
              " 'noOfCam(Back)',\n",
              " 'batteryCapacity(mAh)',\n",
              " 'storage(GB)',\n",
              " 'year',\n",
              " 'price(Rs.)']"
            ]
          },
          "metadata": {
            "tags": []
          },
          "execution_count": 27
        }
      ]
    },
    {
      "cell_type": "code",
      "metadata": {
        "colab": {
          "base_uri": "https://localhost:8080/",
          "height": 260
        },
        "id": "yQ5tFMT8xW2Z",
        "outputId": "e6aea21b-c03b-4b83-ffa0-1359281c7e8f"
      },
      "source": [
        "df[numCols].hist(bins=50,figsize=(50,50), layout=(10,3), rwidth=5)\n",
        "plt.show()"
      ],
      "execution_count": null,
      "outputs": [
        {
          "output_type": "display_data",
          "data": {
            "image/png": "[encoded data removed]",
            "text/plain": [
              "<Figure size 3600x3600 with 30 Axes>"
            ]
          },
          "metadata": {
            "tags": [],
            "needs_background": "light"
          }
        }
      ]
    },
    {
      "cell_type": "code",
      "metadata": {
        "colab": {
          "base_uri": "https://localhost:8080/",
          "height": 513
        },
        "id": "0k7hMMzHzhHC",
        "outputId": "7d16c826-b115-4360-eefe-2ec3db1a8bfd"
      },
      "source": [
        "#some scatter plots of price vary with the attributes\n",
        "plt.scatter(df[\"storage(GB)\"],df[\"price(Rs.)\"])\n",
        "plt.scatter(df[\"batteryCapacity(mAh)\"],df[\"price(Rs.)\"])\n",
        "plt.show()\n",
        "plt.scatter(df[\"ram(GB)\"],df[\"price(Rs.)\"])\n",
        "plt.scatter(df[\"displaySize\"],df[\"price(Rs.)\"])\n",
        "plt.show()"
      ],
      "execution_count": null,
      "outputs": [
        {
          "output_type": "display_data",
          "data": {
            "image/png": "[encoded data removed]",
            "text/plain": [
              "<Figure size 432x288 with 1 Axes>"
            ]
          },
          "metadata": {
            "tags": [],
            "needs_background": "light"
          }
        },
        {
          "output_type": "display_data",
          "data": {
            "image/png": "[encoded data removed]",
            "text/plain": [
              "<Figure size 432x288 with 1 Axes>"
            ]
          },
          "metadata": {
            "tags": [],
            "needs_background": "light"
          }
        }
      ]
    },
    {
      "cell_type": "code",
      "metadata": {
        "colab": {
          "base_uri": "https://localhost:8080/",
          "height": 196
        },
        "id": "U63dx1Z22i6A",
        "outputId": "e34fa651-da63-4a72-de7e-e917cd020966"
      },
      "source": [
        "#some box plots\n",
        "df[numCols].plot(kind='box',subplots = True,figsize=(60,60),layout = (10,5),sharex = False, sharey = False)\n",
        "plt.show()"
      ],
      "execution_count": null,
      "outputs": [
        {
          "output_type": "display_data",
          "data": {
            "image/png": "[encoded data removed]",
            "text/plain": [
              "<Figure size 4320x4320 with 50 Axes>"
            ]
          },
          "metadata": {
            "tags": [],
            "needs_background": "light"
          }
        }
      ]
    },
    {
      "cell_type": "code",
      "metadata": {
        "id": "v2JZQuD-D3EH"
      },
      "source": [
        "#take categorical valued column for one hot encoding\n",
        "from sklearn.preprocessing import OneHotEncoder\n",
        "\n",
        "oneHotEncoder=OneHotEncoder()\n",
        "encodedArray=oneHotEncoder.fit_transform(df[['model']]).toarray()"
      ],
      "execution_count": null,
      "outputs": []
    },
    {
      "cell_type": "code",
      "metadata": {
        "colab": {
          "base_uri": "https://localhost:8080/"
        },
        "id": "weZJ4YWzhf4q",
        "outputId": "73b6308e-867d-49bf-9e96-46d1610bb110"
      },
      "source": [
        "encodedArray[270]#check array no 270"
      ],
      "execution_count": null,
      "outputs": [
        {
          "output_type": "execute_result",
          "data": {
            "text/plain": [
              "array([0., 0., 0., 0., 0., 0., 0., 1.])"
            ]
          },
          "metadata": {
            "tags": []
          },
          "execution_count": 32
        }
      ]
    },
    {
      "cell_type": "code",
      "metadata": {
        "id": "PaSJgVriTwGC"
      },
      "source": [
        "df = df.drop(columns=['model'])"
      ],
      "execution_count": null,
      "outputs": []
    },
    {
      "cell_type": "code",
      "metadata": {
        "colab": {
          "base_uri": "https://localhost:8080/",
          "height": 419
        },
        "id": "DQVtIqoekiFH",
        "outputId": "5deb8507-6b50-49ab-861c-b0815d9024df"
      },
      "source": [
        " #one hot encoded data putting into a new data frame\n",
        " encodedDf= pd.DataFrame(encodedArray, columns=['apple','htc','huawei','nokia','oppo','samsung','sony','xiaomi'])\n",
        " encodedDf"
      ],
      "execution_count": null,
      "outputs": [
        {
          "output_type": "execute_result",
          "data": {
            "text/html": [
              "<div>\n",
              "<style scoped>\n",
              "    .dataframe tbody tr th:only-of-type {\n",
              "        vertical-align: middle;\n",
              "    }\n",
              "\n",
              "    .dataframe tbody tr th {\n",
              "        vertical-align: top;\n",
              "    }\n",
              "\n",
              "    .dataframe thead th {\n",
              "        text-align: right;\n",
              "    }\n",
              "</style>\n",
              "<table border=\"1\" class=\"dataframe\">\n",
              "  <thead>\n",
              "    <tr style=\"text-align: right;\">\n",
              "      <th></th>\n",
              "      <th>apple</th>\n",
              "      <th>htc</th>\n",
              "      <th>huawei</th>\n",
              "      <th>nokia</th>\n",
              "      <th>oppo</th>\n",
              "      <th>samsung</th>\n",
              "      <th>sony</th>\n",
              "      <th>xiaomi</th>\n",
              "    </tr>\n",
              "  </thead>\n",
              "  <tbody>\n",
              "    <tr>\n",
              "      <th>0</th>\n",
              "      <td>0.0</td>\n",
              "      <td>0.0</td>\n",
              "      <td>0.0</td>\n",
              "      <td>0.0</td>\n",
              "      <td>0.0</td>\n",
              "      <td>1.0</td>\n",
              "      <td>0.0</td>\n",
              "      <td>0.0</td>\n",
              "    </tr>\n",
              "    <tr>\n",
              "      <th>1</th>\n",
              "      <td>0.0</td>\n",
              "      <td>0.0</td>\n",
              "      <td>0.0</td>\n",
              "      <td>0.0</td>\n",
              "      <td>0.0</td>\n",
              "      <td>1.0</td>\n",
              "      <td>0.0</td>\n",
              "      <td>0.0</td>\n",
              "    </tr>\n",
              "    <tr>\n",
              "      <th>2</th>\n",
              "      <td>0.0</td>\n",
              "      <td>0.0</td>\n",
              "      <td>0.0</td>\n",
              "      <td>0.0</td>\n",
              "      <td>0.0</td>\n",
              "      <td>1.0</td>\n",
              "      <td>0.0</td>\n",
              "      <td>0.0</td>\n",
              "    </tr>\n",
              "    <tr>\n",
              "      <th>3</th>\n",
              "      <td>0.0</td>\n",
              "      <td>0.0</td>\n",
              "      <td>0.0</td>\n",
              "      <td>0.0</td>\n",
              "      <td>0.0</td>\n",
              "      <td>1.0</td>\n",
              "      <td>0.0</td>\n",
              "      <td>0.0</td>\n",
              "    </tr>\n",
              "    <tr>\n",
              "      <th>4</th>\n",
              "      <td>0.0</td>\n",
              "      <td>0.0</td>\n",
              "      <td>0.0</td>\n",
              "      <td>0.0</td>\n",
              "      <td>0.0</td>\n",
              "      <td>1.0</td>\n",
              "      <td>0.0</td>\n",
              "      <td>0.0</td>\n",
              "    </tr>\n",
              "    <tr>\n",
              "      <th>...</th>\n",
              "      <td>...</td>\n",
              "      <td>...</td>\n",
              "      <td>...</td>\n",
              "      <td>...</td>\n",
              "      <td>...</td>\n",
              "      <td>...</td>\n",
              "      <td>...</td>\n",
              "      <td>...</td>\n",
              "    </tr>\n",
              "    <tr>\n",
              "      <th>286</th>\n",
              "      <td>0.0</td>\n",
              "      <td>0.0</td>\n",
              "      <td>0.0</td>\n",
              "      <td>0.0</td>\n",
              "      <td>0.0</td>\n",
              "      <td>1.0</td>\n",
              "      <td>0.0</td>\n",
              "      <td>0.0</td>\n",
              "    </tr>\n",
              "    <tr>\n",
              "      <th>287</th>\n",
              "      <td>0.0</td>\n",
              "      <td>0.0</td>\n",
              "      <td>0.0</td>\n",
              "      <td>0.0</td>\n",
              "      <td>0.0</td>\n",
              "      <td>1.0</td>\n",
              "      <td>0.0</td>\n",
              "      <td>0.0</td>\n",
              "    </tr>\n",
              "    <tr>\n",
              "      <th>288</th>\n",
              "      <td>0.0</td>\n",
              "      <td>0.0</td>\n",
              "      <td>0.0</td>\n",
              "      <td>0.0</td>\n",
              "      <td>0.0</td>\n",
              "      <td>1.0</td>\n",
              "      <td>0.0</td>\n",
              "      <td>0.0</td>\n",
              "    </tr>\n",
              "    <tr>\n",
              "      <th>289</th>\n",
              "      <td>0.0</td>\n",
              "      <td>0.0</td>\n",
              "      <td>0.0</td>\n",
              "      <td>0.0</td>\n",
              "      <td>0.0</td>\n",
              "      <td>1.0</td>\n",
              "      <td>0.0</td>\n",
              "      <td>0.0</td>\n",
              "    </tr>\n",
              "    <tr>\n",
              "      <th>290</th>\n",
              "      <td>0.0</td>\n",
              "      <td>0.0</td>\n",
              "      <td>0.0</td>\n",
              "      <td>0.0</td>\n",
              "      <td>0.0</td>\n",
              "      <td>1.0</td>\n",
              "      <td>0.0</td>\n",
              "      <td>0.0</td>\n",
              "    </tr>\n",
              "  </tbody>\n",
              "</table>\n",
              "<p>291 rows × 8 columns</p>\n",
              "</div>"
            ],
            "text/plain": [
              "     apple  htc  huawei  nokia  oppo  samsung  sony  xiaomi\n",
              "0      0.0  0.0     0.0    0.0   0.0      1.0   0.0     0.0\n",
              "1      0.0  0.0     0.0    0.0   0.0      1.0   0.0     0.0\n",
              "2      0.0  0.0     0.0    0.0   0.0      1.0   0.0     0.0\n",
              "3      0.0  0.0     0.0    0.0   0.0      1.0   0.0     0.0\n",
              "4      0.0  0.0     0.0    0.0   0.0      1.0   0.0     0.0\n",
              "..     ...  ...     ...    ...   ...      ...   ...     ...\n",
              "286    0.0  0.0     0.0    0.0   0.0      1.0   0.0     0.0\n",
              "287    0.0  0.0     0.0    0.0   0.0      1.0   0.0     0.0\n",
              "288    0.0  0.0     0.0    0.0   0.0      1.0   0.0     0.0\n",
              "289    0.0  0.0     0.0    0.0   0.0      1.0   0.0     0.0\n",
              "290    0.0  0.0     0.0    0.0   0.0      1.0   0.0     0.0\n",
              "\n",
              "[291 rows x 8 columns]"
            ]
          },
          "metadata": {
            "tags": []
          },
          "execution_count": 34
        }
      ]
    },
    {
      "cell_type": "code",
      "metadata": {
        "colab": {
          "base_uri": "https://localhost:8080/",
          "height": 224
        },
        "id": "_2-2t6FPT8Wy",
        "outputId": "dc41164f-7bdf-43ce-8fbb-ef56676cb5f7"
      },
      "source": [
        "#merge previous data frame with base one\n",
        "df = pd.concat([df.reset_index(drop=True),encodedDf.reset_index(drop=True)], axis=1)\n",
        "df.head(5)"
      ],
      "execution_count": null,
      "outputs": [
        {
          "output_type": "execute_result",
          "data": {
            "text/html": [
              "<div>\n",
              "<style scoped>\n",
              "    .dataframe tbody tr th:only-of-type {\n",
              "        vertical-align: middle;\n",
              "    }\n",
              "\n",
              "    .dataframe tbody tr th {\n",
              "        vertical-align: top;\n",
              "    }\n",
              "\n",
              "    .dataframe thead th {\n",
              "        text-align: right;\n",
              "    }\n",
              "</style>\n",
              "<table border=\"1\" class=\"dataframe\">\n",
              "  <thead>\n",
              "    <tr style=\"text-align: right;\">\n",
              "      <th></th>\n",
              "      <th>ram(GB)</th>\n",
              "      <th>frontCamera(MP)</th>\n",
              "      <th>backCamera(MP)</th>\n",
              "      <th>noOfCam(Front)</th>\n",
              "      <th>noOfCam(Back)</th>\n",
              "      <th>batteryCapacity(mAh)</th>\n",
              "      <th>storage(GB)</th>\n",
              "      <th>displaySize</th>\n",
              "      <th>year</th>\n",
              "      <th>osVersion</th>\n",
              "      <th>price(Rs.)</th>\n",
              "      <th>apple</th>\n",
              "      <th>htc</th>\n",
              "      <th>huawei</th>\n",
              "      <th>nokia</th>\n",
              "      <th>oppo</th>\n",
              "      <th>samsung</th>\n",
              "      <th>sony</th>\n",
              "      <th>xiaomi</th>\n",
              "    </tr>\n",
              "  </thead>\n",
              "  <tbody>\n",
              "    <tr>\n",
              "      <th>0</th>\n",
              "      <td>4</td>\n",
              "      <td>5.0</td>\n",
              "      <td>12.0</td>\n",
              "      <td>1</td>\n",
              "      <td>1</td>\n",
              "      <td>3600</td>\n",
              "      <td>32</td>\n",
              "      <td>5.5</td>\n",
              "      <td>2016</td>\n",
              "      <td>6.0</td>\n",
              "      <td>39900</td>\n",
              "      <td>0.0</td>\n",
              "      <td>0.0</td>\n",
              "      <td>0.0</td>\n",
              "      <td>0.0</td>\n",
              "      <td>0.0</td>\n",
              "      <td>1.0</td>\n",
              "      <td>0.0</td>\n",
              "      <td>0.0</td>\n",
              "    </tr>\n",
              "    <tr>\n",
              "      <th>1</th>\n",
              "      <td>4</td>\n",
              "      <td>5.0</td>\n",
              "      <td>12.0</td>\n",
              "      <td>1</td>\n",
              "      <td>1</td>\n",
              "      <td>3000</td>\n",
              "      <td>32</td>\n",
              "      <td>5.1</td>\n",
              "      <td>2016</td>\n",
              "      <td>6.0</td>\n",
              "      <td>36900</td>\n",
              "      <td>0.0</td>\n",
              "      <td>0.0</td>\n",
              "      <td>0.0</td>\n",
              "      <td>0.0</td>\n",
              "      <td>0.0</td>\n",
              "      <td>1.0</td>\n",
              "      <td>0.0</td>\n",
              "      <td>0.0</td>\n",
              "    </tr>\n",
              "    <tr>\n",
              "      <th>2</th>\n",
              "      <td>4</td>\n",
              "      <td>8.0</td>\n",
              "      <td>12.0</td>\n",
              "      <td>1</td>\n",
              "      <td>2</td>\n",
              "      <td>3500</td>\n",
              "      <td>64</td>\n",
              "      <td>6.2</td>\n",
              "      <td>2017</td>\n",
              "      <td>7.0</td>\n",
              "      <td>74900</td>\n",
              "      <td>0.0</td>\n",
              "      <td>0.0</td>\n",
              "      <td>0.0</td>\n",
              "      <td>0.0</td>\n",
              "      <td>0.0</td>\n",
              "      <td>1.0</td>\n",
              "      <td>0.0</td>\n",
              "      <td>0.0</td>\n",
              "    </tr>\n",
              "    <tr>\n",
              "      <th>3</th>\n",
              "      <td>4</td>\n",
              "      <td>5.0</td>\n",
              "      <td>12.0</td>\n",
              "      <td>1</td>\n",
              "      <td>2</td>\n",
              "      <td>3000</td>\n",
              "      <td>32</td>\n",
              "      <td>5.8</td>\n",
              "      <td>2017</td>\n",
              "      <td>7.0</td>\n",
              "      <td>66500</td>\n",
              "      <td>0.0</td>\n",
              "      <td>0.0</td>\n",
              "      <td>0.0</td>\n",
              "      <td>0.0</td>\n",
              "      <td>0.0</td>\n",
              "      <td>1.0</td>\n",
              "      <td>0.0</td>\n",
              "      <td>0.0</td>\n",
              "    </tr>\n",
              "    <tr>\n",
              "      <th>4</th>\n",
              "      <td>4</td>\n",
              "      <td>5.0</td>\n",
              "      <td>12.0</td>\n",
              "      <td>1</td>\n",
              "      <td>2</td>\n",
              "      <td>4000</td>\n",
              "      <td>32</td>\n",
              "      <td>5.8</td>\n",
              "      <td>2017</td>\n",
              "      <td>7.0</td>\n",
              "      <td>148570</td>\n",
              "      <td>0.0</td>\n",
              "      <td>0.0</td>\n",
              "      <td>0.0</td>\n",
              "      <td>0.0</td>\n",
              "      <td>0.0</td>\n",
              "      <td>1.0</td>\n",
              "      <td>0.0</td>\n",
              "      <td>0.0</td>\n",
              "    </tr>\n",
              "  </tbody>\n",
              "</table>\n",
              "</div>"
            ],
            "text/plain": [
              "   ram(GB)  frontCamera(MP)  backCamera(MP)  ...  samsung  sony  xiaomi\n",
              "0        4              5.0            12.0  ...      1.0   0.0     0.0\n",
              "1        4              5.0            12.0  ...      1.0   0.0     0.0\n",
              "2        4              8.0            12.0  ...      1.0   0.0     0.0\n",
              "3        4              5.0            12.0  ...      1.0   0.0     0.0\n",
              "4        4              5.0            12.0  ...      1.0   0.0     0.0\n",
              "\n",
              "[5 rows x 19 columns]"
            ]
          },
          "metadata": {
            "tags": []
          },
          "execution_count": 35
        }
      ]
    },
    {
      "cell_type": "code",
      "metadata": {
        "colab": {
          "base_uri": "https://localhost:8080/"
        },
        "id": "uNd2wJuNWUVX",
        "outputId": "c7528ae7-c856-4d42-a941-b0405dba46ad"
      },
      "source": [
        "corr_matrix = df.corr() #see the corelation between other variable and price\n",
        "corr_matrix[\"price(Rs.)\"].sort_values(ascending=False)"
      ],
      "execution_count": null,
      "outputs": [
        {
          "output_type": "execute_result",
          "data": {
            "text/plain": [
              "price(Rs.)              1.000000\n",
              "storage(GB)             0.755670\n",
              "ram(GB)                 0.512004\n",
              "apple                   0.493718\n",
              "osVersion               0.449425\n",
              "noOfCam(Front)          0.348523\n",
              "noOfCam(Back)           0.172273\n",
              "displaySize             0.164415\n",
              "samsung                 0.155117\n",
              "frontCamera(MP)         0.097213\n",
              "sony                    0.051266\n",
              "backCamera(MP)          0.042877\n",
              "year                    0.035258\n",
              "htc                    -0.017332\n",
              "batteryCapacity(mAh)   -0.084952\n",
              "oppo                   -0.098295\n",
              "huawei                 -0.145653\n",
              "nokia                  -0.179758\n",
              "xiaomi                 -0.225649\n",
              "Name: price(Rs.), dtype: float64"
            ]
          },
          "metadata": {
            "tags": []
          },
          "execution_count": 36
        }
      ]
    },
    {
      "cell_type": "code",
      "metadata": {
        "colab": {
          "base_uri": "https://localhost:8080/"
        },
        "id": "KtIKgohdXCi1",
        "outputId": "dfa8aaad-c8dd-47e0-9747-4af4d85305f8"
      },
      "source": [
        "#convert all data types to float for minmax scaler\n",
        "df=df.astype(float)\n",
        "df.dtypes\n"
      ],
      "execution_count": null,
      "outputs": [
        {
          "output_type": "execute_result",
          "data": {
            "text/plain": [
              "ram(GB)                 float64\n",
              "frontCamera(MP)         float64\n",
              "backCamera(MP)          float64\n",
              "noOfCam(Front)          float64\n",
              "noOfCam(Back)           float64\n",
              "batteryCapacity(mAh)    float64\n",
              "storage(GB)             float64\n",
              "displaySize             float64\n",
              "year                    float64\n",
              "osVersion               float64\n",
              "price(Rs.)              float64\n",
              "apple                   float64\n",
              "htc                     float64\n",
              "huawei                  float64\n",
              "nokia                   float64\n",
              "oppo                    float64\n",
              "samsung                 float64\n",
              "sony                    float64\n",
              "xiaomi                  float64\n",
              "dtype: object"
            ]
          },
          "metadata": {
            "tags": []
          },
          "execution_count": 37
        }
      ]
    },
    {
      "cell_type": "code",
      "metadata": {
        "id": "luBi8eOFXWrr"
      },
      "source": [
        "subX=df.drop(['price(Rs.)'],axis=1) #set the variable for X,y\n",
        "y=df[['price(Rs.)']]"
      ],
      "execution_count": null,
      "outputs": []
    },
    {
      "cell_type": "code",
      "metadata": {
        "colab": {
          "base_uri": "https://localhost:8080/",
          "height": 224
        },
        "id": "XTUxdBvAfzgc",
        "outputId": "de11c1b9-ccfc-43c9-a0fe-b616ab5e70ea"
      },
      "source": [
        "from sklearn.preprocessing import MinMaxScaler\n",
        "scaler = MinMaxScaler()\n",
        "tempX = scaler.fit_transform(subX)\n",
        "X = pd.DataFrame(tempX, columns=subX.columns)\n",
        "X.head(5)"
      ],
      "execution_count": null,
      "outputs": [
        {
          "output_type": "execute_result",
          "data": {
            "text/html": [
              "<div>\n",
              "<style scoped>\n",
              "    .dataframe tbody tr th:only-of-type {\n",
              "        vertical-align: middle;\n",
              "    }\n",
              "\n",
              "    .dataframe tbody tr th {\n",
              "        vertical-align: top;\n",
              "    }\n",
              "\n",
              "    .dataframe thead th {\n",
              "        text-align: right;\n",
              "    }\n",
              "</style>\n",
              "<table border=\"1\" class=\"dataframe\">\n",
              "  <thead>\n",
              "    <tr style=\"text-align: right;\">\n",
              "      <th></th>\n",
              "      <th>ram(GB)</th>\n",
              "      <th>frontCamera(MP)</th>\n",
              "      <th>backCamera(MP)</th>\n",
              "      <th>noOfCam(Front)</th>\n",
              "      <th>noOfCam(Back)</th>\n",
              "      <th>batteryCapacity(mAh)</th>\n",
              "      <th>storage(GB)</th>\n",
              "      <th>displaySize</th>\n",
              "      <th>year</th>\n",
              "      <th>osVersion</th>\n",
              "      <th>apple</th>\n",
              "      <th>htc</th>\n",
              "      <th>huawei</th>\n",
              "      <th>nokia</th>\n",
              "      <th>oppo</th>\n",
              "      <th>samsung</th>\n",
              "      <th>sony</th>\n",
              "      <th>xiaomi</th>\n",
              "    </tr>\n",
              "  </thead>\n",
              "  <tbody>\n",
              "    <tr>\n",
              "      <th>0</th>\n",
              "      <td>0.272727</td>\n",
              "      <td>0.071429</td>\n",
              "      <td>0.067961</td>\n",
              "      <td>0.0</td>\n",
              "      <td>0.000000</td>\n",
              "      <td>0.346154</td>\n",
              "      <td>0.055118</td>\n",
              "      <td>0.324324</td>\n",
              "      <td>0.285714</td>\n",
              "      <td>0.222222</td>\n",
              "      <td>0.0</td>\n",
              "      <td>0.0</td>\n",
              "      <td>0.0</td>\n",
              "      <td>0.0</td>\n",
              "      <td>0.0</td>\n",
              "      <td>1.0</td>\n",
              "      <td>0.0</td>\n",
              "      <td>0.0</td>\n",
              "    </tr>\n",
              "    <tr>\n",
              "      <th>1</th>\n",
              "      <td>0.272727</td>\n",
              "      <td>0.071429</td>\n",
              "      <td>0.067961</td>\n",
              "      <td>0.0</td>\n",
              "      <td>0.000000</td>\n",
              "      <td>0.230769</td>\n",
              "      <td>0.055118</td>\n",
              "      <td>0.216216</td>\n",
              "      <td>0.285714</td>\n",
              "      <td>0.222222</td>\n",
              "      <td>0.0</td>\n",
              "      <td>0.0</td>\n",
              "      <td>0.0</td>\n",
              "      <td>0.0</td>\n",
              "      <td>0.0</td>\n",
              "      <td>1.0</td>\n",
              "      <td>0.0</td>\n",
              "      <td>0.0</td>\n",
              "    </tr>\n",
              "    <tr>\n",
              "      <th>2</th>\n",
              "      <td>0.272727</td>\n",
              "      <td>0.142857</td>\n",
              "      <td>0.067961</td>\n",
              "      <td>0.0</td>\n",
              "      <td>0.333333</td>\n",
              "      <td>0.326923</td>\n",
              "      <td>0.118110</td>\n",
              "      <td>0.513514</td>\n",
              "      <td>0.428571</td>\n",
              "      <td>0.333333</td>\n",
              "      <td>0.0</td>\n",
              "      <td>0.0</td>\n",
              "      <td>0.0</td>\n",
              "      <td>0.0</td>\n",
              "      <td>0.0</td>\n",
              "      <td>1.0</td>\n",
              "      <td>0.0</td>\n",
              "      <td>0.0</td>\n",
              "    </tr>\n",
              "    <tr>\n",
              "      <th>3</th>\n",
              "      <td>0.272727</td>\n",
              "      <td>0.071429</td>\n",
              "      <td>0.067961</td>\n",
              "      <td>0.0</td>\n",
              "      <td>0.333333</td>\n",
              "      <td>0.230769</td>\n",
              "      <td>0.055118</td>\n",
              "      <td>0.405405</td>\n",
              "      <td>0.428571</td>\n",
              "      <td>0.333333</td>\n",
              "      <td>0.0</td>\n",
              "      <td>0.0</td>\n",
              "      <td>0.0</td>\n",
              "      <td>0.0</td>\n",
              "      <td>0.0</td>\n",
              "      <td>1.0</td>\n",
              "      <td>0.0</td>\n",
              "      <td>0.0</td>\n",
              "    </tr>\n",
              "    <tr>\n",
              "      <th>4</th>\n",
              "      <td>0.272727</td>\n",
              "      <td>0.071429</td>\n",
              "      <td>0.067961</td>\n",
              "      <td>0.0</td>\n",
              "      <td>0.333333</td>\n",
              "      <td>0.423077</td>\n",
              "      <td>0.055118</td>\n",
              "      <td>0.405405</td>\n",
              "      <td>0.428571</td>\n",
              "      <td>0.333333</td>\n",
              "      <td>0.0</td>\n",
              "      <td>0.0</td>\n",
              "      <td>0.0</td>\n",
              "      <td>0.0</td>\n",
              "      <td>0.0</td>\n",
              "      <td>1.0</td>\n",
              "      <td>0.0</td>\n",
              "      <td>0.0</td>\n",
              "    </tr>\n",
              "  </tbody>\n",
              "</table>\n",
              "</div>"
            ],
            "text/plain": [
              "    ram(GB)  frontCamera(MP)  backCamera(MP)  ...  samsung  sony  xiaomi\n",
              "0  0.272727         0.071429        0.067961  ...      1.0   0.0     0.0\n",
              "1  0.272727         0.071429        0.067961  ...      1.0   0.0     0.0\n",
              "2  0.272727         0.142857        0.067961  ...      1.0   0.0     0.0\n",
              "3  0.272727         0.071429        0.067961  ...      1.0   0.0     0.0\n",
              "4  0.272727         0.071429        0.067961  ...      1.0   0.0     0.0\n",
              "\n",
              "[5 rows x 18 columns]"
            ]
          },
          "metadata": {
            "tags": []
          },
          "execution_count": 39
        }
      ]
    },
    {
      "cell_type": "code",
      "metadata": {
        "id": "pp2hVMdUjy2m"
      },
      "source": [
        "from sklearn.linear_model import LinearRegression\n",
        "from sklearn.model_selection import train_test_split\n",
        "X_train, X_test, y_train, y_test = sklearn.model_selection.train_test_split(X, y, test_size = 0.1, random_state = 4)"
      ],
      "execution_count": null,
      "outputs": []
    },
    {
      "cell_type": "code",
      "metadata": {
        "colab": {
          "base_uri": "https://localhost:8080/"
        },
        "id": "bog7CCMgkSa0",
        "outputId": "92e01619-2ff0-4aca-96f7-8dabadad066a"
      },
      "source": [
        "#fit the values for linear regression\n",
        "lr = LinearRegression()\n",
        "lr.fit(X_train, y_train)\n"
      ],
      "execution_count": null,
      "outputs": [
        {
          "output_type": "execute_result",
          "data": {
            "text/plain": [
              "LinearRegression(copy_X=True, fit_intercept=True, n_jobs=None, normalize=False)"
            ]
          },
          "metadata": {
            "tags": []
          },
          "execution_count": 58
        }
      ]
    },
    {
      "cell_type": "code",
      "metadata": {
        "colab": {
          "base_uri": "https://localhost:8080/"
        },
        "id": "76_BIHb8vTno",
        "outputId": "b057c341-d2d8-436c-b1d0-e1779611fe57"
      },
      "source": [
        "#check the Accuracy Score\n",
        "score = lr.score(X_test, y_test) \n",
        "print(\"accuracy = \",score)"
      ],
      "execution_count": null,
      "outputs": [
        {
          "output_type": "stream",
          "text": [
            "accuracy =  0.8308407546915606\n"
          ],
          "name": "stdout"
        }
      ]
    },
    {
      "cell_type": "code",
      "metadata": {
        "id": "KlJZd2FXmOlx",
        "colab": {
          "base_uri": "https://localhost:8080/"
        },
        "outputId": "f1666c8f-c71c-4b94-b715-a34c9d049c92"
      },
      "source": [
        "#predict the value from trained set\n",
        "y_predict_lr=lr.predict(X_test)\n",
        "#check the r2 score\n",
        "r_square_lr=metrics.r2_score(y_test,y_predict_lr)\n",
        "r_square_lr"
      ],
      "execution_count": null,
      "outputs": [
        {
          "output_type": "execute_result",
          "data": {
            "text/plain": [
              "0.8308407546915606"
            ]
          },
          "metadata": {
            "tags": []
          },
          "execution_count": 60
        }
      ]
    },
    {
      "cell_type": "code",
      "metadata": {
        "colab": {
          "base_uri": "https://localhost:8080/",
          "height": 381
        },
        "id": "sr3TkrafmaZ0",
        "outputId": "b81038cd-3a46-4dc8-de73-8b7873aae092"
      },
      "source": [
        "#graphical representation between Y_test vs Y_predict\n",
        "sns.distplot(y_test,hist=False,color=\"r\",label=\"Actual value\")\n",
        "sns.distplot(y_predict_lr,hist=False,color=\"b\",label=\"predict value\")\n",
        "plt.show"
      ],
      "execution_count": null,
      "outputs": [
        {
          "output_type": "stream",
          "text": [
            "/usr/local/lib/python3.7/dist-packages/seaborn/distributions.py:2557: FutureWarning: `distplot` is a deprecated function and will be removed in a future version. Please adapt your code to use either `displot` (a figure-level function with similar flexibility) or `kdeplot` (an axes-level function for kernel density plots).\n",
            "  warnings.warn(msg, FutureWarning)\n",
            "/usr/local/lib/python3.7/dist-packages/seaborn/distributions.py:2557: FutureWarning: `distplot` is a deprecated function and will be removed in a future version. Please adapt your code to use either `displot` (a figure-level function with similar flexibility) or `kdeplot` (an axes-level function for kernel density plots).\n",
            "  warnings.warn(msg, FutureWarning)\n"
          ],
          "name": "stderr"
        },
        {
          "output_type": "execute_result",
          "data": {
            "text/plain": [
              "<function matplotlib.pyplot.show>"
            ]
          },
          "metadata": {
            "tags": []
          },
          "execution_count": 61
        },
        {
          "output_type": "display_data",
          "data": {
            "image/png": "[encoded data removed]",
            "text/plain": [
              "<Figure size 432x288 with 1 Axes>"
            ]
          },
          "metadata": {
            "tags": [],
            "needs_background": "light"
          }
        }
      ]
    },
    {
      "cell_type": "code",
      "metadata": {
        "colab": {
          "base_uri": "https://localhost:8080/"
        },
        "id": "0HRCeKZjovdm",
        "outputId": "1a107ffa-0a71-47f2-cecc-66e0b18ae944"
      },
      "source": [
        "\n",
        "print (\"\\n****Evaluations after linear regression model****\")\n",
        "print (\"MAError  :\",metrics.mean_absolute_error(y_test,y_predict_lr))\n",
        "print (\"MSError  :\",metrics.mean_squared_error(y_test,y_predict_lr))\n",
        "print (\"RMSError :\",np.sqrt(metrics.mean_squared_error(y_test,y_predict_lr)))"
      ],
      "execution_count": null,
      "outputs": [
        {
          "output_type": "stream",
          "text": [
            "\n",
            "****Evaluations after linear regression model****\n",
            "MAError  : 19702.433333333334\n",
            "MSError  : 872261493.5666667\n",
            "RMSError : 29534.07343335265\n"
          ],
          "name": "stdout"
        }
      ]
    },
    {
      "cell_type": "code",
      "metadata": {
        "id": "Y6Tec0XZoLMx"
      },
      "source": [
        "#import random forest regresser\n",
        "from sklearn.ensemble import RandomForestRegressor\n",
        "\n",
        "from sklearn.model_selection import train_test_split\n",
        "X_train, X_test, y_train, y_test = sklearn.model_selection.train_test_split(X, y, test_size = 0.1, random_state = 5)"
      ],
      "execution_count": null,
      "outputs": []
    },
    {
      "cell_type": "code",
      "metadata": {
        "colab": {
          "base_uri": "https://localhost:8080/"
        },
        "id": "4X3Il56NUZTf",
        "outputId": "dbe1d6ff-94ca-4934-c765-07daa5277b12"
      },
      "source": [
        "#fit the values for Random Forest  Regressor\n",
        "\n",
        "rFReg=RandomForestRegressor(n_estimators=100,random_state=10)\n",
        "rFReg.fit(X_train,y_train)"
      ],
      "execution_count": null,
      "outputs": [
        {
          "output_type": "stream",
          "text": [
            "/usr/local/lib/python3.7/dist-packages/ipykernel_launcher.py:4: DataConversionWarning: A column-vector y was passed when a 1d array was expected. Please change the shape of y to (n_samples,), for example using ravel().\n",
            "  after removing the cwd from sys.path.\n"
          ],
          "name": "stderr"
        },
        {
          "output_type": "execute_result",
          "data": {
            "text/plain": [
              "RandomForestRegressor(bootstrap=True, ccp_alpha=0.0, criterion='mse',\n",
              "                      max_depth=None, max_features='auto', max_leaf_nodes=None,\n",
              "                      max_samples=None, min_impurity_decrease=0.0,\n",
              "                      min_impurity_split=None, min_samples_leaf=1,\n",
              "                      min_samples_split=2, min_weight_fraction_leaf=0.0,\n",
              "                      n_estimators=100, n_jobs=None, oob_score=False,\n",
              "                      random_state=10, verbose=0, warm_start=False)"
            ]
          },
          "metadata": {
            "tags": []
          },
          "execution_count": 64
        }
      ]
    },
    {
      "cell_type": "code",
      "metadata": {
        "colab": {
          "base_uri": "https://localhost:8080/"
        },
        "id": "zfN-4SeSYXMW",
        "outputId": "4c545aeb-b3a1-4938-f70d-abfc2c739f92"
      },
      "source": [
        "#predict the value from trained set\n",
        "y_predict_rfr=rFReg.predict((X_test))\n",
        "\n",
        "#check the r2 score\n",
        "r_square_rfr=metrics.r2_score(y_test,y_predict_rfr)\n",
        "r_square_rfr"
      ],
      "execution_count": null,
      "outputs": [
        {
          "output_type": "execute_result",
          "data": {
            "text/plain": [
              "0.9121815896131763"
            ]
          },
          "metadata": {
            "tags": []
          },
          "execution_count": 65
        }
      ]
    },
    {
      "cell_type": "code",
      "metadata": {
        "colab": {
          "base_uri": "https://localhost:8080/",
          "height": 381
        },
        "id": "vR55StXsPVJ-",
        "outputId": "abae1e09-557c-432a-f9c9-24a2e5addfce"
      },
      "source": [
        "#graphical representation between Y_test vs Y_predict\n",
        "sns.distplot(y_test,hist=False,color=\"b\",label=\"fitted\")\n",
        "sns.distplot(y_predict_rfr,hist=False,color=\"r\",label=\"predictvalue\")\n",
        "plt.show\n"
      ],
      "execution_count": null,
      "outputs": [
        {
          "output_type": "stream",
          "text": [
            "/usr/local/lib/python3.7/dist-packages/seaborn/distributions.py:2557: FutureWarning: `distplot` is a deprecated function and will be removed in a future version. Please adapt your code to use either `displot` (a figure-level function with similar flexibility) or `kdeplot` (an axes-level function for kernel density plots).\n",
            "  warnings.warn(msg, FutureWarning)\n",
            "/usr/local/lib/python3.7/dist-packages/seaborn/distributions.py:2557: FutureWarning: `distplot` is a deprecated function and will be removed in a future version. Please adapt your code to use either `displot` (a figure-level function with similar flexibility) or `kdeplot` (an axes-level function for kernel density plots).\n",
            "  warnings.warn(msg, FutureWarning)\n"
          ],
          "name": "stderr"
        },
        {
          "output_type": "execute_result",
          "data": {
            "text/plain": [
              "<function matplotlib.pyplot.show>"
            ]
          },
          "metadata": {
            "tags": []
          },
          "execution_count": 66
        },
        {
          "output_type": "display_data",
          "data": {
            "image/png": "[encoded data removed]",
            "text/plain": [
              "<Figure size 432x288 with 1 Axes>"
            ]
          },
          "metadata": {
            "tags": [],
            "needs_background": "light"
          }
        }
      ]
    },
    {
      "cell_type": "code",
      "metadata": {
        "colab": {
          "base_uri": "https://localhost:8080/"
        },
        "id": "IOv5pJTGSRWw",
        "outputId": "63c7c4bb-61d0-4956-93ff-f2923167a775"
      },
      "source": [
        "print (\"\\n****Evaluations after Random Forest Model****\")\n",
        "print (\"MAError  :\",metrics.mean_absolute_error(y_test,y_predict_rfr))\n",
        "print (\"MSError  :\",metrics.mean_squared_error(y_test,y_predict_rfr))\n",
        "print (\"RMSError :\",np.sqrt(metrics.mean_squared_error(y_test,y_predict_rfr)))"
      ],
      "execution_count": null,
      "outputs": [
        {
          "output_type": "stream",
          "text": [
            "\n",
            "****Evaluations after Random Forest Model****\n",
            "MAError  : 9064.332222222223\n",
            "MSError  : 179838345.3666459\n",
            "RMSError : 13410.381999281224\n"
          ],
          "name": "stdout"
        }
      ]
    },
    {
      "cell_type": "code",
      "metadata": {
        "id": "2WPDxlSRrAM8"
      },
      "source": [
        "#import decission tree regresse\n",
        "from sklearn.tree import DecisionTreeRegressor\n",
        "from sklearn.model_selection import train_test_split\n",
        "X_train, X_test, y_train, y_test = sklearn.model_selection.train_test_split(X, y, test_size = 0.1, random_state = 22)"
      ],
      "execution_count": null,
      "outputs": []
    },
    {
      "cell_type": "code",
      "metadata": {
        "colab": {
          "base_uri": "https://localhost:8080/"
        },
        "id": "Lc-gGHttSpHk",
        "outputId": "18aba1ed-accd-4b95-f284-e02637643d5e"
      },
      "source": [
        "#fit the values for Decision Tree Regressor\n",
        "dTReg=DecisionTreeRegressor(random_state=5,max_depth=15)\n",
        "\n",
        "dTReg.fit(X_train,y_train)"
      ],
      "execution_count": null,
      "outputs": [
        {
          "output_type": "execute_result",
          "data": {
            "text/plain": [
              "DecisionTreeRegressor(ccp_alpha=0.0, criterion='mse', max_depth=15,\n",
              "                      max_features=None, max_leaf_nodes=None,\n",
              "                      min_impurity_decrease=0.0, min_impurity_split=None,\n",
              "                      min_samples_leaf=1, min_samples_split=2,\n",
              "                      min_weight_fraction_leaf=0.0, presort='deprecated',\n",
              "                      random_state=5, splitter='best')"
            ]
          },
          "metadata": {
            "tags": []
          },
          "execution_count": 69
        }
      ]
    },
    {
      "cell_type": "code",
      "metadata": {
        "colab": {
          "base_uri": "https://localhost:8080/"
        },
        "id": "CHD_AWblUpSt",
        "outputId": "52e63132-529b-4343-81f6-c0aba1e2e8de"
      },
      "source": [
        "#predict the value from trained set\n",
        "y_predict_dtr=dTReg.predict((X_test))\n",
        "\n",
        "#check the r2 score\n",
        "r_square_dtr=metrics.r2_score(y_test,y_predict_dtr)\n",
        "r_square_dtr"
      ],
      "execution_count": null,
      "outputs": [
        {
          "output_type": "execute_result",
          "data": {
            "text/plain": [
              "0.9217075278000816"
            ]
          },
          "metadata": {
            "tags": []
          },
          "execution_count": 70
        }
      ]
    },
    {
      "cell_type": "code",
      "metadata": {
        "colab": {
          "base_uri": "https://localhost:8080/",
          "height": 381
        },
        "id": "yPejZYr5WE50",
        "outputId": "9300c217-806b-499f-827b-a30c6be4c2ba"
      },
      "source": [
        "#graphical representation between Y_test vs Y_predict\n",
        "sns.distplot(y_test,hist=False,color=\"b\",label=\"fitted\")\n",
        "sns.distplot(y_predict_dtr,hist=False,color=\"r\",label=\"predictvalue\")\n",
        "plt.show"
      ],
      "execution_count": null,
      "outputs": [
        {
          "output_type": "stream",
          "text": [
            "/usr/local/lib/python3.7/dist-packages/seaborn/distributions.py:2557: FutureWarning: `distplot` is a deprecated function and will be removed in a future version. Please adapt your code to use either `displot` (a figure-level function with similar flexibility) or `kdeplot` (an axes-level function for kernel density plots).\n",
            "  warnings.warn(msg, FutureWarning)\n",
            "/usr/local/lib/python3.7/dist-packages/seaborn/distributions.py:2557: FutureWarning: `distplot` is a deprecated function and will be removed in a future version. Please adapt your code to use either `displot` (a figure-level function with similar flexibility) or `kdeplot` (an axes-level function for kernel density plots).\n",
            "  warnings.warn(msg, FutureWarning)\n"
          ],
          "name": "stderr"
        },
        {
          "output_type": "execute_result",
          "data": {
            "text/plain": [
              "<function matplotlib.pyplot.show>"
            ]
          },
          "metadata": {
            "tags": []
          },
          "execution_count": 71
        },
        {
          "output_type": "display_data",
          "data": {
            "image/png": "[encoded data removed]",
            "text/plain": [
              "<Figure size 432x288 with 1 Axes>"
            ]
          },
          "metadata": {
            "tags": [],
            "needs_background": "light"
          }
        }
      ]
    },
    {
      "cell_type": "code",
      "metadata": {
        "colab": {
          "base_uri": "https://localhost:8080/"
        },
        "id": "mEiJVh96Wlk9",
        "outputId": "a04cb53a-cccf-4e39-ce38-f1fd358115f5"
      },
      "source": [
        "print (\"\\n****Evaluations after Decision Tree Model****\")\n",
        "print (\"MAError  :\",metrics.mean_absolute_error(y_test,y_predict_dtr))\n",
        "print (\"MSError  :\",metrics.mean_squared_error(y_test,y_predict_dtr))\n",
        "print (\"RMSError :\",np.sqrt(metrics.mean_squared_error(y_test,y_predict_dtr)))"
      ],
      "execution_count": null,
      "outputs": [
        {
          "output_type": "stream",
          "text": [
            "\n",
            "****Evaluations after Decision Tree Model****\n",
            "MAError  : 7036.983333333334\n",
            "MSError  : 161829823.45833334\n",
            "RMSError : 12721.235138866561\n"
          ],
          "name": "stdout"
        }
      ]
    }
  ]
}